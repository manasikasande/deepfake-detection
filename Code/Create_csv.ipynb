{
  "nbformat": 4,
  "nbformat_minor": 0,
  "metadata": {
    "colab": {
      "name": "Create_csv.ipynb",
      "provenance": []
    },
    "kernelspec": {
      "name": "python3",
      "display_name": "Python 3"
    },
    "language_info": {
      "name": "python"
    }
  },
  "cells": [
    {
      "cell_type": "markdown",
      "source": [
        "355  \n",
        "507  \n",
        "216  \n",
        "705  \n",
        "157  \n",
        "791  "
      ],
      "metadata": {
        "id": "JL7-T8tbeu_O"
      }
    },
    {
      "cell_type": "code",
      "execution_count": null,
      "metadata": {
        "id": "zOCJcWuBJSX2"
      },
      "outputs": [],
      "source": [
        "import glob\n",
        "import pandas as pd\n",
        "import os\n",
        "\n",
        "print(\"Number of files in Preprocessed Face Forensics++ Real\")\n",
        "video_fil = glob.glob('/content/drive/MyDrive/Colab Notebooks/Preprocess_FFReal/*.mp4')\n",
        "print(len(video_fil))\n",
        "print(\"Number of files in Preprocessed Face Forensics++ Fake\")\n",
        "video_fil = glob.glob('/content/drive/MyDrive/Colab Notebooks/Preprocess_FFFake/*.mp4')\n",
        "print(len(video_fil))\n",
        "print(\"Number of files in Preprocessed DFDC Real\")\n",
        "video_fil = glob.glob('/content/drive/MyDrive/Colab Notebooks/Preprocess_dfdcreal/*.mp4')\n",
        "print(len(video_fil))\n",
        "print(\"Number of files in Preprocessed DFDC Fake\")\n",
        "video_fil = glob.glob('/content/drive/MyDrive/Colab Notebooks/Preprocess_dfdcfake/*.mp4')\n",
        "print(len(video_fil))\n",
        "print(\"Number of files in Preprocessed CelebDF Real\")\n",
        "video_fil = glob.glob('/content/drive/MyDrive/Colab Notebooks/Preprocess_CelebReal/*.mp4')\n",
        "print(len(video_fil))\n",
        "print(\"Number of files in Preprocessed CelebDF Fake\")\n",
        "video_fil = glob.glob('/content/drive/MyDrive/Colab Notebooks/Preprocess_CelebFake/*.mp4')\n",
        "\n",
        "print(len(video_fil))"
      ]
    },
    {
      "cell_type": "code",
      "source": [
        "import shutil\n",
        "\n",
        "# move dfdc videos to respective folders\n",
        "csv = '/content/drive/MyDrive/dfdc25.csv'\n",
        "\n",
        "df = pd.read_csv(csv)\n",
        "\n",
        "names = df['Name'].tolist()\n",
        "labels = df['label'].tolist()\n",
        "\n",
        "csv = '/content/drive/MyDrive/Colab Notebooks/all_labels.csv'\n",
        "\n",
        "dfdc = '/content/drive/MyDrive/Colab Notebooks/Preprocess_dfdc'\n",
        "fake = '/content/drive/MyDrive/Colab Notebooks/Preprocess_dfdcfake'\n",
        "real = '/content/drive/MyDrive/Colab Notebooks/Preprocess_dfdcreal'\n",
        "\n",
        "f = 0\n",
        "r = 0\n",
        "\n",
        "for filename in os.listdir(dfdc):\n",
        "\n",
        "  path = os.path.join(dfdc,filename)\n",
        "\n",
        "  if(filename in names):\n",
        "    index = names.index(filename)\n",
        "    label = labels[index]\n",
        "\n",
        "    if(label == 'FAKE'):\n",
        "      f+= 1\n",
        "      shutil.copy(path,fake)\n",
        "    \n",
        "    if(label == 'REAL'):\n",
        "      r += 1\n",
        "      shutil.copy(path,real)\n",
        "      \n",
        "print(\"Real = \",r,\" fake = \",f)\n",
        "\n"
      ],
      "metadata": {
        "id": "ZEic7rqZaRn4"
      },
      "execution_count": null,
      "outputs": []
    },
    {
      "cell_type": "code",
      "source": [
        "names = []\n",
        "labels = []\n",
        "\n",
        "for video in video_fil:\n",
        "  name = video.split('/')[-1]\n",
        "  folder = video.split('/')[-2]\n",
        "  names.append(name)\n",
        "\n",
        "  print(\"Name = \",name,\" folder = \",folder)\n",
        "  if(folder == 'Preprocess_dfdcfake'):\n",
        "    labels.append('FAKE')\n",
        "  \n",
        "  if(folder == 'Preprocess_FFFake'):\n",
        "    labels.append('FAKE')\n",
        "  \n",
        "  if(folder == 'Preprocess_CelebFake'):\n",
        "    labels.append('FAKE')\n",
        "\n",
        "  if(folder == 'Preprocess_dfdcreal'): \n",
        "    labels.append('REAL')\n",
        "\n",
        "  if(folder == 'Preprocess_FFReal'):\n",
        "    labels.append('REAL')\n",
        "  \n",
        "  if(folder == 'Preprocess_CelebReal'):\n",
        "    labels.append('REAL')\n",
        "\n",
        "df = pd.DataFrame(list(zip(names,labels)))\n",
        "print(len(names))\n",
        "df.to_csv('all_labels.csv')"
      ],
      "metadata": {
        "id": "Hc_NjaVpJvUk"
      },
      "execution_count": null,
      "outputs": []
    }
  ]
}